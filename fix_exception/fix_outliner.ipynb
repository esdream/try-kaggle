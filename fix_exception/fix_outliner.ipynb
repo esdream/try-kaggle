{
 "cells": [
  {
   "cell_type": "markdown",
   "metadata": {},
   "source": [
    "## 探测异常值\n",
    "由于**系统误差**，**人为误差**或者**固有数据的变异**使得他们与总体的行为特征，结构或相关性等不一样，这部分数据称为**异常值（outliner）**。\n",
    "应用：异常值检测在数据挖掘中有着重要的意义，比如如果异常值是由于数据本身的变异造成的，那么对他们进行分析，就可以发现隐藏的更深层次的，潜在的，有价值的信息。例如发现金融和保险的欺诈行为，黑客入侵行为，还有就是追寻极低或者极高消费人群的消费行为，然后做出相对应的产品。"
   ]
  },
  {
   "cell_type": "markdown",
   "metadata": {},
   "source": [
    "### 统计学方法对异常值的检测"
   ]
  },
  {
   "cell_type": "markdown",
   "metadata": {},
   "source": [
    "#### 3σ探测方法\n",
    "对于任何$\\varepsilon > 0$，有$P(|X - E(X)| \\geq \\varepsilon) \\leq \\frac {D(X)}{(\\varepsilon)^2}$\n",
    "\n",
    "当$\\varepsilon = 3\\delta$时，统计数据与平均值的离散程度可以由其标准差$D(X) = \\delta$反映。\n",
    "+ 所有数据中，至少有3/4（或75%）的数据位于平均数2个标准差范围内。\n",
    "+ 所有数据中，至少有8/9（或88.9%）的数据位于平均数3个标准差范围内。\n",
    "+ 所有数据中，至少有24/25（或96%)的数据位于平均数5个标准差范围内。\n",
    "\n",
    "所以，一般是把超过三个离散值的数据称之为异常值。"
   ]
  },
  {
   "cell_type": "markdown",
   "metadata": {},
   "source": [
    "#### 散点图\n",
    "可以使用pandas的`df.plot()`方法或seaborn的`sns.jointplot()`方法实现"
   ]
  },
  {
   "cell_type": "markdown",
   "metadata": {},
   "source": [
    "#### 四分位展布法\n",
    "把数据按照从小到大排序，其中25%处为上四分位（$F_L$），75%处为下四分位处（$F_U$）。则展布为$d_F = F_L - F_U$，上截断点为$F_L - 1.5d_F$，下截断点为$F_U + 1.5d_F$。通常将小于上截断点，或者大于下截断点的数据称为异常值。\n",
    "\n",
    "四分位法可以通过箱形图表示，不过需要注意箱形图中数据值较大的位于上方，数据值较小的位于下方，应于四分位展布法中的描述加以区分。\n",
    "\n",
    "优点：与方差和极差相比，更加不如意受极端值的影响，且处理大规模数据效果很好。\n",
    "\n",
    "缺点：小规模处理略显粗糙。而且只适合单个属相的检测。"
   ]
  },
  {
   "cell_type": "markdown",
   "metadata": {},
   "source": [
    "#### 基于分布的异常值检测"
   ]
  }
 ],
 "metadata": {
  "kernelspec": {
   "display_name": "Python 3",
   "language": "python",
   "name": "python3"
  },
  "language_info": {
   "codemirror_mode": {
    "name": "ipython",
    "version": 3
   },
   "file_extension": ".py",
   "mimetype": "text/x-python",
   "name": "python",
   "nbconvert_exporter": "python",
   "pygments_lexer": "ipython3",
   "version": "3.6.1"
  }
 },
 "nbformat": 4,
 "nbformat_minor": 2
}
